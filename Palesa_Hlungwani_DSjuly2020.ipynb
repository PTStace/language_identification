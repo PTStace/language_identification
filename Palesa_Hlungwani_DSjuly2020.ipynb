{
  "nbformat": 4,
  "nbformat_minor": 0,
  "metadata": {
    "colab": {
      "name": "Palesa_Hlungwani_DSjuly2020.ipynb",
      "provenance": [],
      "collapsed_sections": []
    },
    "kernelspec": {
      "name": "python3",
      "display_name": "Python 3"
    }
  },
  "cells": [
    {
      "cell_type": "markdown",
      "metadata": {
        "id": "50CvXS8dIqNS"
      },
      "source": [
        "## 1 Imports "
      ]
    },
    {
      "cell_type": "code",
      "metadata": {
        "colab": {
          "base_uri": "https://localhost:8080/"
        },
        "id": "n3k-xxAVIy21",
        "outputId": "c18e8a4a-6d15-461f-fdd0-9d0ab947655b"
      },
      "source": [
        "# imports\n",
        "import numpy as np\n",
        "import pandas as pd\n",
        "\n",
        "# imports for nlp\n",
        "import re\n",
        "import os\n",
        "import nltk\n",
        "import string\n",
        "import time\n",
        "import spacy.cli\n",
        "\n",
        "import unicodedata\n",
        "import numpy as np\n",
        "import pandas as pd\n",
        "import xgboost\n",
        "from sklearn import metrics\n",
        "from nltk.corpus import stopwords\n",
        "from html.parser import HTMLParser\n",
        "from nltk.tokenize import TweetTokenizer\n",
        "from nltk.corpus import stopwords, wordnet\n",
        "from nltk.stem import WordNetLemmatizer\n",
        "from nltk.stem import PorterStemmer\n",
        "from nltk.tokenize import word_tokenize\n",
        "from sklearn.feature_extraction.text import TfidfVectorizer\n",
        "from nltk.corpus import stopwords\n",
        "nltk.download('stopwords')\n",
        "\n",
        "# imports for models\n",
        "from sklearn.svm import LinearSVC, SVC\n",
        "from sklearn.naive_bayes import MultinomialNB\n",
        "from sklearn.tree import DecisionTreeClassifier\n",
        "from sklearn.ensemble import AdaBoostClassifier\n",
        "from sklearn.neighbors import KNeighborsClassifier\n",
        "from sklearn.ensemble import RandomForestClassifier\n",
        "from sklearn.linear_model import LogisticRegression, SGDClassifier\n",
        "\n",
        "#imports for performance evaluation\n",
        "from sklearn.pipeline import Pipeline\n",
        "from sklearn.metrics import roc_curve, auc\n",
        "from sklearn.preprocessing import label_binarize\n",
        "from sklearn.model_selection import GridSearchCV\n",
        "from sklearn.model_selection import StratifiedKFold\n",
        "from sklearn.multiclass import OneVsRestClassifier, OneVsOneClassifier\n",
        "from sklearn.metrics import f1_score, accuracy_score, precision_score, recall_score, classification_report, confusion_matrix\n",
        "# Import library for train test split\n",
        "\n",
        "from sklearn.model_selection import train_test_split, KFold, cross_val_score, GridSearchCV"
      ],
      "execution_count": 50,
      "outputs": [
        {
          "output_type": "stream",
          "text": [
            "[nltk_data] Downloading package stopwords to /root/nltk_data...\n",
            "[nltk_data]   Package stopwords is already up-to-date!\n"
          ],
          "name": "stdout"
        }
      ]
    },
    {
      "cell_type": "code",
      "metadata": {
        "id": "slrH3JS1Kgt2"
      },
      "source": [
        "# Loading the data\n",
        "train = pd.read_csv('train_set.csv')\n",
        "test = pd.read_csv('test_set.csv')"
      ],
      "execution_count": 51,
      "outputs": []
    },
    {
      "cell_type": "markdown",
      "metadata": {
        "id": "39U6YX1RI0pS"
      },
      "source": [
        "## 2 EDA"
      ]
    },
    {
      "cell_type": "code",
      "metadata": {
        "colab": {
          "base_uri": "https://localhost:8080/",
          "height": 662
        },
        "id": "lLNwkCulJCZI",
        "outputId": "1c25406e-b0c8-42dd-b399-dc27185f5b11"
      },
      "source": [
        "# train data summary\n",
        "train.head(20)"
      ],
      "execution_count": 52,
      "outputs": [
        {
          "output_type": "execute_result",
          "data": {
            "text/html": [
              "<div>\n",
              "<style scoped>\n",
              "    .dataframe tbody tr th:only-of-type {\n",
              "        vertical-align: middle;\n",
              "    }\n",
              "\n",
              "    .dataframe tbody tr th {\n",
              "        vertical-align: top;\n",
              "    }\n",
              "\n",
              "    .dataframe thead th {\n",
              "        text-align: right;\n",
              "    }\n",
              "</style>\n",
              "<table border=\"1\" class=\"dataframe\">\n",
              "  <thead>\n",
              "    <tr style=\"text-align: right;\">\n",
              "      <th></th>\n",
              "      <th>lang_id</th>\n",
              "      <th>text</th>\n",
              "    </tr>\n",
              "  </thead>\n",
              "  <tbody>\n",
              "    <tr>\n",
              "      <th>0</th>\n",
              "      <td>xho</td>\n",
              "      <td>umgaqo-siseko wenza amalungiselelo kumaziko ax...</td>\n",
              "    </tr>\n",
              "    <tr>\n",
              "      <th>1</th>\n",
              "      <td>xho</td>\n",
              "      <td>i-dha iya kuba nobulumko bokubeka umsebenzi na...</td>\n",
              "    </tr>\n",
              "    <tr>\n",
              "      <th>2</th>\n",
              "      <td>eng</td>\n",
              "      <td>the province of kwazulu-natal department of tr...</td>\n",
              "    </tr>\n",
              "    <tr>\n",
              "      <th>3</th>\n",
              "      <td>nso</td>\n",
              "      <td>o netefatša gore o ba file dilo ka moka tše le...</td>\n",
              "    </tr>\n",
              "    <tr>\n",
              "      <th>4</th>\n",
              "      <td>ven</td>\n",
              "      <td>khomishini ya ndinganyiso ya mbeu yo ewa maana...</td>\n",
              "    </tr>\n",
              "    <tr>\n",
              "      <th>5</th>\n",
              "      <td>nso</td>\n",
              "      <td>dinyakišišo tše tša go dirwa gabedi ka ngwaga ...</td>\n",
              "    </tr>\n",
              "    <tr>\n",
              "      <th>6</th>\n",
              "      <td>tsn</td>\n",
              "      <td>kgetse nngwe le nngwe e e sa faposiwang mo tsh...</td>\n",
              "    </tr>\n",
              "    <tr>\n",
              "      <th>7</th>\n",
              "      <td>ven</td>\n",
              "      <td>mbadelo dze dza laelwa dzi do kwama mahatulele...</td>\n",
              "    </tr>\n",
              "    <tr>\n",
              "      <th>8</th>\n",
              "      <td>nso</td>\n",
              "      <td>maloko a dikhuduthamaga a ikarabela mongwe le ...</td>\n",
              "    </tr>\n",
              "    <tr>\n",
              "      <th>9</th>\n",
              "      <td>tsn</td>\n",
              "      <td>fa le dirisiwa lebone le tshwanetse go bontsha...</td>\n",
              "    </tr>\n",
              "    <tr>\n",
              "      <th>10</th>\n",
              "      <td>nbl</td>\n",
              "      <td>lapho inarha yangeqadi ingenwe ngokungasimthet...</td>\n",
              "    </tr>\n",
              "    <tr>\n",
              "      <th>11</th>\n",
              "      <td>ven</td>\n",
              "      <td>yo dovha hafhu ya khwaṱhisedza uri hu vhe na m...</td>\n",
              "    </tr>\n",
              "    <tr>\n",
              "      <th>12</th>\n",
              "      <td>zul</td>\n",
              "      <td>i-tip-offs anonymous wusizo locingo oluzimele ...</td>\n",
              "    </tr>\n",
              "    <tr>\n",
              "      <th>13</th>\n",
              "      <td>ssw</td>\n",
              "      <td>tekulima lokufaka ekhatsi yonkhe imisebenti ye...</td>\n",
              "    </tr>\n",
              "    <tr>\n",
              "      <th>14</th>\n",
              "      <td>zul</td>\n",
              "      <td>noma yiliphi ilungu lombutho wezokuvikela elin...</td>\n",
              "    </tr>\n",
              "    <tr>\n",
              "      <th>15</th>\n",
              "      <td>nso</td>\n",
              "      <td>c a fa tumelelo ya go hloma go aga goba go bea...</td>\n",
              "    </tr>\n",
              "    <tr>\n",
              "      <th>16</th>\n",
              "      <td>tso</td>\n",
              "      <td>migingiriko ya cbnrm hinkwayo yi katsa ku tumb...</td>\n",
              "    </tr>\n",
              "    <tr>\n",
              "      <th>17</th>\n",
              "      <td>zul</td>\n",
              "      <td>amalungu nabangabasebenzi banelungelo lokwenza...</td>\n",
              "    </tr>\n",
              "    <tr>\n",
              "      <th>18</th>\n",
              "      <td>sot</td>\n",
              "      <td>ka ho mengwa lefapheng la lona diprofeshenale ...</td>\n",
              "    </tr>\n",
              "    <tr>\n",
              "      <th>19</th>\n",
              "      <td>nbl</td>\n",
              "      <td>isitifikhethi somtjhado esingakarhunyezwa namk...</td>\n",
              "    </tr>\n",
              "  </tbody>\n",
              "</table>\n",
              "</div>"
            ],
            "text/plain": [
              "   lang_id                                               text\n",
              "0      xho  umgaqo-siseko wenza amalungiselelo kumaziko ax...\n",
              "1      xho  i-dha iya kuba nobulumko bokubeka umsebenzi na...\n",
              "2      eng  the province of kwazulu-natal department of tr...\n",
              "3      nso  o netefatša gore o ba file dilo ka moka tše le...\n",
              "4      ven  khomishini ya ndinganyiso ya mbeu yo ewa maana...\n",
              "5      nso  dinyakišišo tše tša go dirwa gabedi ka ngwaga ...\n",
              "6      tsn  kgetse nngwe le nngwe e e sa faposiwang mo tsh...\n",
              "7      ven  mbadelo dze dza laelwa dzi do kwama mahatulele...\n",
              "8      nso  maloko a dikhuduthamaga a ikarabela mongwe le ...\n",
              "9      tsn  fa le dirisiwa lebone le tshwanetse go bontsha...\n",
              "10     nbl  lapho inarha yangeqadi ingenwe ngokungasimthet...\n",
              "11     ven  yo dovha hafhu ya khwaṱhisedza uri hu vhe na m...\n",
              "12     zul  i-tip-offs anonymous wusizo locingo oluzimele ...\n",
              "13     ssw  tekulima lokufaka ekhatsi yonkhe imisebenti ye...\n",
              "14     zul  noma yiliphi ilungu lombutho wezokuvikela elin...\n",
              "15     nso  c a fa tumelelo ya go hloma go aga goba go bea...\n",
              "16     tso  migingiriko ya cbnrm hinkwayo yi katsa ku tumb...\n",
              "17     zul  amalungu nabangabasebenzi banelungelo lokwenza...\n",
              "18     sot  ka ho mengwa lefapheng la lona diprofeshenale ...\n",
              "19     nbl  isitifikhethi somtjhado esingakarhunyezwa namk..."
            ]
          },
          "metadata": {
            "tags": []
          },
          "execution_count": 52
        }
      ]
    },
    {
      "cell_type": "code",
      "metadata": {
        "colab": {
          "base_uri": "https://localhost:8080/",
          "height": 662
        },
        "id": "Jj9VAgK_MXfo",
        "outputId": "3ef69800-9d72-4374-9228-2c63192d9e95"
      },
      "source": [
        "# test data summary\n",
        "test.head(20)"
      ],
      "execution_count": 53,
      "outputs": [
        {
          "output_type": "execute_result",
          "data": {
            "text/html": [
              "<div>\n",
              "<style scoped>\n",
              "    .dataframe tbody tr th:only-of-type {\n",
              "        vertical-align: middle;\n",
              "    }\n",
              "\n",
              "    .dataframe tbody tr th {\n",
              "        vertical-align: top;\n",
              "    }\n",
              "\n",
              "    .dataframe thead th {\n",
              "        text-align: right;\n",
              "    }\n",
              "</style>\n",
              "<table border=\"1\" class=\"dataframe\">\n",
              "  <thead>\n",
              "    <tr style=\"text-align: right;\">\n",
              "      <th></th>\n",
              "      <th>index</th>\n",
              "      <th>text</th>\n",
              "    </tr>\n",
              "  </thead>\n",
              "  <tbody>\n",
              "    <tr>\n",
              "      <th>0</th>\n",
              "      <td>1</td>\n",
              "      <td>Mmasepala, fa maemo a a kgethegileng a letlele...</td>\n",
              "    </tr>\n",
              "    <tr>\n",
              "      <th>1</th>\n",
              "      <td>2</td>\n",
              "      <td>Uzakwaziswa ngokufaneleko nakungafuneka eminye...</td>\n",
              "    </tr>\n",
              "    <tr>\n",
              "      <th>2</th>\n",
              "      <td>3</td>\n",
              "      <td>Tshivhumbeo tshi fana na ngano dza vhathu.</td>\n",
              "    </tr>\n",
              "    <tr>\n",
              "      <th>3</th>\n",
              "      <td>4</td>\n",
              "      <td>Kube inja nelikati betingevakala kutsi titsini...</td>\n",
              "    </tr>\n",
              "    <tr>\n",
              "      <th>4</th>\n",
              "      <td>5</td>\n",
              "      <td>Winste op buitelandse valuta.</td>\n",
              "    </tr>\n",
              "    <tr>\n",
              "      <th>5</th>\n",
              "      <td>6</td>\n",
              "      <td>Ke feela dilense tše hlakilego, tša pono e tee...</td>\n",
              "    </tr>\n",
              "    <tr>\n",
              "      <th>6</th>\n",
              "      <td>7</td>\n",
              "      <td>&lt;fn&gt;(762010101403 AM) 1495 Final Gems Birthing...</td>\n",
              "    </tr>\n",
              "    <tr>\n",
              "      <th>7</th>\n",
              "      <td>8</td>\n",
              "      <td>Ntjhafatso ya konteraka ya mosebetsi: Etsa bon...</td>\n",
              "    </tr>\n",
              "    <tr>\n",
              "      <th>8</th>\n",
              "      <td>9</td>\n",
              "      <td>u-GEMS uhlinzeka ngezinzuzo zemithi yezifo ezi...</td>\n",
              "    </tr>\n",
              "    <tr>\n",
              "      <th>9</th>\n",
              "      <td>10</td>\n",
              "      <td>So, on occasion, are statistics misused.</td>\n",
              "    </tr>\n",
              "    <tr>\n",
              "      <th>10</th>\n",
              "      <td>11</td>\n",
              "      <td>Janewari la ngwaga ofe kapa, dikholego tša gag...</td>\n",
              "    </tr>\n",
              "    <tr>\n",
              "      <th>11</th>\n",
              "      <td>12</td>\n",
              "      <td>Ntirho wa mfumo : ku aka swikolo swo ringana n...</td>\n",
              "    </tr>\n",
              "    <tr>\n",
              "      <th>12</th>\n",
              "      <td>13</td>\n",
              "      <td>Kl.(3) e emetswe ke k. 13 ya Molaotheo Tlhabol...</td>\n",
              "    </tr>\n",
              "    <tr>\n",
              "      <th>13</th>\n",
              "      <td>14</td>\n",
              "      <td>Tshabo le ho se sireletsehe hoo ho ile ha baka...</td>\n",
              "    </tr>\n",
              "    <tr>\n",
              "      <th>14</th>\n",
              "      <td>15</td>\n",
              "      <td>Loko u nga ri na ntiyiso wa leswaku xiphiqo xa...</td>\n",
              "    </tr>\n",
              "    <tr>\n",
              "      <th>15</th>\n",
              "      <td>16</td>\n",
              "      <td>lokuthabatha inxaxheba kwiintshukumo neeprogra...</td>\n",
              "    </tr>\n",
              "    <tr>\n",
              "      <th>16</th>\n",
              "      <td>17</td>\n",
              "      <td>Icandelwana (2) lithathelwe indawo licandelo 9...</td>\n",
              "    </tr>\n",
              "    <tr>\n",
              "      <th>17</th>\n",
              "      <td>18</td>\n",
              "      <td>LaMatsebula Yebo Mtilankhatsa, uva kahle. Wona...</td>\n",
              "    </tr>\n",
              "    <tr>\n",
              "      <th>18</th>\n",
              "      <td>19</td>\n",
              "      <td>Enige persoon wat 'n bepaling van hierdie vero...</td>\n",
              "    </tr>\n",
              "    <tr>\n",
              "      <th>19</th>\n",
              "      <td>20</td>\n",
              "      <td>Minisi.a' zwi amba Minisi.</td>\n",
              "    </tr>\n",
              "  </tbody>\n",
              "</table>\n",
              "</div>"
            ],
            "text/plain": [
              "    index                                               text\n",
              "0       1  Mmasepala, fa maemo a a kgethegileng a letlele...\n",
              "1       2  Uzakwaziswa ngokufaneleko nakungafuneka eminye...\n",
              "2       3         Tshivhumbeo tshi fana na ngano dza vhathu.\n",
              "3       4  Kube inja nelikati betingevakala kutsi titsini...\n",
              "4       5                      Winste op buitelandse valuta.\n",
              "5       6  Ke feela dilense tše hlakilego, tša pono e tee...\n",
              "6       7  <fn>(762010101403 AM) 1495 Final Gems Birthing...\n",
              "7       8  Ntjhafatso ya konteraka ya mosebetsi: Etsa bon...\n",
              "8       9  u-GEMS uhlinzeka ngezinzuzo zemithi yezifo ezi...\n",
              "9      10           So, on occasion, are statistics misused.\n",
              "10     11  Janewari la ngwaga ofe kapa, dikholego tša gag...\n",
              "11     12  Ntirho wa mfumo : ku aka swikolo swo ringana n...\n",
              "12     13  Kl.(3) e emetswe ke k. 13 ya Molaotheo Tlhabol...\n",
              "13     14  Tshabo le ho se sireletsehe hoo ho ile ha baka...\n",
              "14     15  Loko u nga ri na ntiyiso wa leswaku xiphiqo xa...\n",
              "15     16  lokuthabatha inxaxheba kwiintshukumo neeprogra...\n",
              "16     17  Icandelwana (2) lithathelwe indawo licandelo 9...\n",
              "17     18  LaMatsebula Yebo Mtilankhatsa, uva kahle. Wona...\n",
              "18     19  Enige persoon wat 'n bepaling van hierdie vero...\n",
              "19     20                         Minisi.a' zwi amba Minisi."
            ]
          },
          "metadata": {
            "tags": []
          },
          "execution_count": 53
        }
      ]
    },
    {
      "cell_type": "code",
      "metadata": {
        "colab": {
          "base_uri": "https://localhost:8080/"
        },
        "id": "q995nYnTMYCi",
        "outputId": "e24dd544-1dc5-4fc8-d473-22453da48d51"
      },
      "source": [
        "text = train['text']\n",
        "text"
      ],
      "execution_count": 54,
      "outputs": [
        {
          "output_type": "execute_result",
          "data": {
            "text/plain": [
              "0        umgaqo-siseko wenza amalungiselelo kumaziko ax...\n",
              "1        i-dha iya kuba nobulumko bokubeka umsebenzi na...\n",
              "2        the province of kwazulu-natal department of tr...\n",
              "3        o netefatša gore o ba file dilo ka moka tše le...\n",
              "4        khomishini ya ndinganyiso ya mbeu yo ewa maana...\n",
              "                               ...                        \n",
              "32995    popo ya dipolateforomo tse ke go tlisa boetele...\n",
              "32996    modise mosadi na o ntse o sa utlwe hore thaban...\n",
              "32997    closing date for the submission of completed t...\n",
              "32998    nawuphina umntu ofunyenwe enetyala phantsi kwa...\n",
              "32999    mafapha a mang le ona a lokela ho etsa ditlale...\n",
              "Name: text, Length: 33000, dtype: object"
            ]
          },
          "metadata": {
            "tags": []
          },
          "execution_count": 54
        }
      ]
    },
    {
      "cell_type": "markdown",
      "metadata": {
        "id": "mjcjVE3R9KrG"
      },
      "source": [
        "## Data Processing \n"
      ]
    },
    {
      "cell_type": "code",
      "metadata": {
        "id": "BJxPXDG3YjrP"
      },
      "source": [
        "train1 = train.copy()"
      ],
      "execution_count": 55,
      "outputs": []
    },
    {
      "cell_type": "code",
      "metadata": {
        "colab": {
          "base_uri": "https://localhost:8080/"
        },
        "id": "YmW67bc_9SAr",
        "outputId": "2853a4a2-5981-4fe9-b8be-fb7af61ee416"
      },
      "source": [
        "train1 = train.drop_duplicates(keep='first')\n",
        "train1.shape"
      ],
      "execution_count": 56,
      "outputs": [
        {
          "output_type": "execute_result",
          "data": {
            "text/plain": [
              "(29948, 2)"
            ]
          },
          "metadata": {
            "tags": []
          },
          "execution_count": 56
        }
      ]
    },
    {
      "cell_type": "code",
      "metadata": {
        "id": "6PZxLYdHLFjm"
      },
      "source": [
        "def message (text):\n",
        "        \n",
        "    #convert to lowercase\n",
        "    text = text.lower()\n",
        "     \n",
        "    #remove numbers \n",
        "    text = re.sub(r'\\d+','', text)\n",
        "    \n",
        "    #remove punctuation\n",
        "    text = re.sub(r\"[,.;':@#?!\\&/$]+\\ *\", ' ', text)\n",
        "    \n",
        "    #remove extra whitespaces \n",
        "    text = re.sub(r'\\s\\s+', ' ', text)\n",
        "    \n",
        "    #remove space in front of tweet\n",
        "    text = text.lstrip(' ')\n",
        "    \n",
        "    return text"
      ],
      "execution_count": 57,
      "outputs": []
    },
    {
      "cell_type": "code",
      "metadata": {
        "colab": {
          "base_uri": "https://localhost:8080/"
        },
        "id": "rziHetxvMcvO",
        "outputId": "586a6c54-8593-4d88-a3e5-10322a3d9942"
      },
      "source": [
        "train1['text_']= train1['text'].apply(message)"
      ],
      "execution_count": 58,
      "outputs": [
        {
          "output_type": "stream",
          "text": [
            "/usr/local/lib/python3.6/dist-packages/ipykernel_launcher.py:1: SettingWithCopyWarning: \n",
            "A value is trying to be set on a copy of a slice from a DataFrame.\n",
            "Try using .loc[row_indexer,col_indexer] = value instead\n",
            "\n",
            "See the caveats in the documentation: https://pandas.pydata.org/pandas-docs/stable/user_guide/indexing.html#returning-a-view-versus-a-copy\n",
            "  \"\"\"Entry point for launching an IPython kernel.\n"
          ],
          "name": "stderr"
        }
      ]
    },
    {
      "cell_type": "markdown",
      "metadata": {
        "id": "FjQjFMFoJEzE"
      },
      "source": [
        "## 3 Feature Engineering"
      ]
    },
    {
      "cell_type": "markdown",
      "metadata": {
        "id": "WFtmpFENNKw3"
      },
      "source": [
        "splitting the data"
      ]
    },
    {
      "cell_type": "code",
      "metadata": {
        "id": "pcrgkkmiJQTu"
      },
      "source": [
        "X = train1['text_']\n",
        "y = train1['lang_id']\n",
        "\n",
        "X_train, X_test, y_train, y_test = train_test_split(X, y, test_size =0.1, shuffle=True, stratify=y, random_state = 42)"
      ],
      "execution_count": 59,
      "outputs": []
    },
    {
      "cell_type": "markdown",
      "metadata": {
        "id": "DlLMqGPtNngo"
      },
      "source": [
        "Pipeline"
      ]
    },
    {
      "cell_type": "code",
      "metadata": {
        "id": "gjEtnhcVNDAj"
      },
      "source": [
        "#Logistic Regression\n",
        "lr = Pipeline([('tfidf', TfidfVectorizer()),\n",
        "               ('clf', LogisticRegression())])\n",
        "\n",
        "#Linear SVC\n",
        "linsvc = Pipeline([('tfidf', TfidfVectorizer()),\n",
        "                   ('clf', LinearSVC())])\n",
        "\n",
        "\n",
        "#Random Forest Classifier\n",
        "rf = Pipeline([('tfidf', TfidfVectorizer()),\n",
        "               ('clf', RandomForestClassifier())])\n"
      ],
      "execution_count": 60,
      "outputs": []
    },
    {
      "cell_type": "markdown",
      "metadata": {
        "id": "zYLxEbU_JRFF"
      },
      "source": [
        "## 4 Modeling"
      ]
    },
    {
      "cell_type": "markdown",
      "metadata": {
        "id": "LCeSJmC1Olcw"
      },
      "source": [
        "Train the models"
      ]
    },
    {
      "cell_type": "code",
      "metadata": {
        "colab": {
          "base_uri": "https://localhost:8080/"
        },
        "id": "2Q7ySnXtJZt4",
        "outputId": "9802a367-177c-49e3-8e73-7a01c1eb84fc"
      },
      "source": [
        "# Logistic regression\n",
        "lr.fit(X_train, y_train) \n",
        "y_pred_lr = lr.predict(X_test) \n",
        "\n",
        "# Linear SVC\n",
        "linsvc.fit(X_train, y_train)\n",
        "y_pred_linsvc = linsvc.predict(X_test)\n",
        "\n",
        "# Random Forest Classifier\n",
        "rf.fit(X_train, y_train)\n",
        "y_pred_rf = rf.predict(X_test)\n"
      ],
      "execution_count": 61,
      "outputs": [
        {
          "output_type": "stream",
          "text": [
            "/usr/local/lib/python3.6/dist-packages/sklearn/linear_model/_logistic.py:940: ConvergenceWarning: lbfgs failed to converge (status=1):\n",
            "STOP: TOTAL NO. of ITERATIONS REACHED LIMIT.\n",
            "\n",
            "Increase the number of iterations (max_iter) or scale the data as shown in:\n",
            "    https://scikit-learn.org/stable/modules/preprocessing.html\n",
            "Please also refer to the documentation for alternative solver options:\n",
            "    https://scikit-learn.org/stable/modules/linear_model.html#logistic-regression\n",
            "  extra_warning_msg=_LOGISTIC_SOLVER_CONVERGENCE_MSG)\n"
          ],
          "name": "stderr"
        }
      ]
    },
    {
      "cell_type": "markdown",
      "metadata": {
        "id": "ie8TVc71OwVd"
      },
      "source": [
        "logistic regression"
      ]
    },
    {
      "cell_type": "code",
      "metadata": {
        "colab": {
          "base_uri": "https://localhost:8080/",
          "height": 513
        },
        "id": "kOayBHtLOpUN",
        "outputId": "cfca4946-2601-4e1e-8f75-e4ee973cdd5b"
      },
      "source": [
        "start = time.time()\n",
        "lg_f1 = round(f1_score(y_test, y_pred_lr, average='weighted'),2)\n",
        "print('Accuracy %s' % accuracy_score(y_pred_lr, y_test))\n",
        "print(\"Model Runtime: %0.2f seconds\"%((time.time() - start)))\n",
        "report = classification_report(y_test, y_pred_lr, output_dict=True)\n",
        "results = pd.DataFrame(report).transpose()\n",
        "results"
      ],
      "execution_count": 62,
      "outputs": [
        {
          "output_type": "stream",
          "text": [
            "Accuracy 0.9956594323873121\n",
            "Model Runtime: 0.02 seconds\n"
          ],
          "name": "stdout"
        },
        {
          "output_type": "execute_result",
          "data": {
            "text/html": [
              "<div>\n",
              "<style scoped>\n",
              "    .dataframe tbody tr th:only-of-type {\n",
              "        vertical-align: middle;\n",
              "    }\n",
              "\n",
              "    .dataframe tbody tr th {\n",
              "        vertical-align: top;\n",
              "    }\n",
              "\n",
              "    .dataframe thead th {\n",
              "        text-align: right;\n",
              "    }\n",
              "</style>\n",
              "<table border=\"1\" class=\"dataframe\">\n",
              "  <thead>\n",
              "    <tr style=\"text-align: right;\">\n",
              "      <th></th>\n",
              "      <th>precision</th>\n",
              "      <th>recall</th>\n",
              "      <th>f1-score</th>\n",
              "      <th>support</th>\n",
              "    </tr>\n",
              "  </thead>\n",
              "  <tbody>\n",
              "    <tr>\n",
              "      <th>afr</th>\n",
              "      <td>1.000000</td>\n",
              "      <td>0.996212</td>\n",
              "      <td>0.998102</td>\n",
              "      <td>264.000000</td>\n",
              "    </tr>\n",
              "    <tr>\n",
              "      <th>eng</th>\n",
              "      <td>0.996678</td>\n",
              "      <td>1.000000</td>\n",
              "      <td>0.998336</td>\n",
              "      <td>300.000000</td>\n",
              "    </tr>\n",
              "    <tr>\n",
              "      <th>nbl</th>\n",
              "      <td>0.995708</td>\n",
              "      <td>0.983051</td>\n",
              "      <td>0.989339</td>\n",
              "      <td>236.000000</td>\n",
              "    </tr>\n",
              "    <tr>\n",
              "      <th>nso</th>\n",
              "      <td>1.000000</td>\n",
              "      <td>1.000000</td>\n",
              "      <td>1.000000</td>\n",
              "      <td>287.000000</td>\n",
              "    </tr>\n",
              "    <tr>\n",
              "      <th>sot</th>\n",
              "      <td>1.000000</td>\n",
              "      <td>1.000000</td>\n",
              "      <td>1.000000</td>\n",
              "      <td>283.000000</td>\n",
              "    </tr>\n",
              "    <tr>\n",
              "      <th>ssw</th>\n",
              "      <td>1.000000</td>\n",
              "      <td>0.995885</td>\n",
              "      <td>0.997938</td>\n",
              "      <td>243.000000</td>\n",
              "    </tr>\n",
              "    <tr>\n",
              "      <th>tsn</th>\n",
              "      <td>1.000000</td>\n",
              "      <td>1.000000</td>\n",
              "      <td>1.000000</td>\n",
              "      <td>287.000000</td>\n",
              "    </tr>\n",
              "    <tr>\n",
              "      <th>tso</th>\n",
              "      <td>1.000000</td>\n",
              "      <td>1.000000</td>\n",
              "      <td>1.000000</td>\n",
              "      <td>276.000000</td>\n",
              "    </tr>\n",
              "    <tr>\n",
              "      <th>ven</th>\n",
              "      <td>1.000000</td>\n",
              "      <td>1.000000</td>\n",
              "      <td>1.000000</td>\n",
              "      <td>261.000000</td>\n",
              "    </tr>\n",
              "    <tr>\n",
              "      <th>xho</th>\n",
              "      <td>0.981481</td>\n",
              "      <td>0.996241</td>\n",
              "      <td>0.988806</td>\n",
              "      <td>266.000000</td>\n",
              "    </tr>\n",
              "    <tr>\n",
              "      <th>zul</th>\n",
              "      <td>0.979452</td>\n",
              "      <td>0.979452</td>\n",
              "      <td>0.979452</td>\n",
              "      <td>292.000000</td>\n",
              "    </tr>\n",
              "    <tr>\n",
              "      <th>accuracy</th>\n",
              "      <td>0.995659</td>\n",
              "      <td>0.995659</td>\n",
              "      <td>0.995659</td>\n",
              "      <td>0.995659</td>\n",
              "    </tr>\n",
              "    <tr>\n",
              "      <th>macro avg</th>\n",
              "      <td>0.995756</td>\n",
              "      <td>0.995531</td>\n",
              "      <td>0.995634</td>\n",
              "      <td>2995.000000</td>\n",
              "    </tr>\n",
              "    <tr>\n",
              "      <th>weighted avg</th>\n",
              "      <td>0.995681</td>\n",
              "      <td>0.995659</td>\n",
              "      <td>0.995661</td>\n",
              "      <td>2995.000000</td>\n",
              "    </tr>\n",
              "  </tbody>\n",
              "</table>\n",
              "</div>"
            ],
            "text/plain": [
              "              precision    recall  f1-score      support\n",
              "afr            1.000000  0.996212  0.998102   264.000000\n",
              "eng            0.996678  1.000000  0.998336   300.000000\n",
              "nbl            0.995708  0.983051  0.989339   236.000000\n",
              "nso            1.000000  1.000000  1.000000   287.000000\n",
              "sot            1.000000  1.000000  1.000000   283.000000\n",
              "ssw            1.000000  0.995885  0.997938   243.000000\n",
              "tsn            1.000000  1.000000  1.000000   287.000000\n",
              "tso            1.000000  1.000000  1.000000   276.000000\n",
              "ven            1.000000  1.000000  1.000000   261.000000\n",
              "xho            0.981481  0.996241  0.988806   266.000000\n",
              "zul            0.979452  0.979452  0.979452   292.000000\n",
              "accuracy       0.995659  0.995659  0.995659     0.995659\n",
              "macro avg      0.995756  0.995531  0.995634  2995.000000\n",
              "weighted avg   0.995681  0.995659  0.995661  2995.000000"
            ]
          },
          "metadata": {
            "tags": []
          },
          "execution_count": 62
        }
      ]
    },
    {
      "cell_type": "markdown",
      "metadata": {
        "id": "XCKyBo-vP1Vj"
      },
      "source": [
        "linear svc"
      ]
    },
    {
      "cell_type": "code",
      "metadata": {
        "colab": {
          "base_uri": "https://localhost:8080/",
          "height": 513
        },
        "id": "nsEJPFQoP0sU",
        "outputId": "632cb2b2-8a95-4262-cf6c-867a55a5981b"
      },
      "source": [
        "linsvc_f1 = round(f1_score(y_test, y_pred_linsvc, average='weighted'),2)\n",
        "print('Accuracy %s' % accuracy_score(y_pred_linsvc, y_test))\n",
        "print(\"Model Runtime: %0.2f seconds\"%((time.time() - start)))\n",
        "report = classification_report(y_test, y_pred_linsvc, output_dict=True)\n",
        "results = pd.DataFrame(report).transpose()\n",
        "results"
      ],
      "execution_count": 63,
      "outputs": [
        {
          "output_type": "stream",
          "text": [
            "Accuracy 0.998330550918197\n",
            "Model Runtime: 0.16 seconds\n"
          ],
          "name": "stdout"
        },
        {
          "output_type": "execute_result",
          "data": {
            "text/html": [
              "<div>\n",
              "<style scoped>\n",
              "    .dataframe tbody tr th:only-of-type {\n",
              "        vertical-align: middle;\n",
              "    }\n",
              "\n",
              "    .dataframe tbody tr th {\n",
              "        vertical-align: top;\n",
              "    }\n",
              "\n",
              "    .dataframe thead th {\n",
              "        text-align: right;\n",
              "    }\n",
              "</style>\n",
              "<table border=\"1\" class=\"dataframe\">\n",
              "  <thead>\n",
              "    <tr style=\"text-align: right;\">\n",
              "      <th></th>\n",
              "      <th>precision</th>\n",
              "      <th>recall</th>\n",
              "      <th>f1-score</th>\n",
              "      <th>support</th>\n",
              "    </tr>\n",
              "  </thead>\n",
              "  <tbody>\n",
              "    <tr>\n",
              "      <th>afr</th>\n",
              "      <td>1.000000</td>\n",
              "      <td>1.000000</td>\n",
              "      <td>1.000000</td>\n",
              "      <td>264.000000</td>\n",
              "    </tr>\n",
              "    <tr>\n",
              "      <th>eng</th>\n",
              "      <td>0.996678</td>\n",
              "      <td>1.000000</td>\n",
              "      <td>0.998336</td>\n",
              "      <td>300.000000</td>\n",
              "    </tr>\n",
              "    <tr>\n",
              "      <th>nbl</th>\n",
              "      <td>1.000000</td>\n",
              "      <td>0.995763</td>\n",
              "      <td>0.997877</td>\n",
              "      <td>236.000000</td>\n",
              "    </tr>\n",
              "    <tr>\n",
              "      <th>nso</th>\n",
              "      <td>1.000000</td>\n",
              "      <td>1.000000</td>\n",
              "      <td>1.000000</td>\n",
              "      <td>287.000000</td>\n",
              "    </tr>\n",
              "    <tr>\n",
              "      <th>sot</th>\n",
              "      <td>1.000000</td>\n",
              "      <td>1.000000</td>\n",
              "      <td>1.000000</td>\n",
              "      <td>283.000000</td>\n",
              "    </tr>\n",
              "    <tr>\n",
              "      <th>ssw</th>\n",
              "      <td>1.000000</td>\n",
              "      <td>0.991770</td>\n",
              "      <td>0.995868</td>\n",
              "      <td>243.000000</td>\n",
              "    </tr>\n",
              "    <tr>\n",
              "      <th>tsn</th>\n",
              "      <td>1.000000</td>\n",
              "      <td>1.000000</td>\n",
              "      <td>1.000000</td>\n",
              "      <td>287.000000</td>\n",
              "    </tr>\n",
              "    <tr>\n",
              "      <th>tso</th>\n",
              "      <td>1.000000</td>\n",
              "      <td>1.000000</td>\n",
              "      <td>1.000000</td>\n",
              "      <td>276.000000</td>\n",
              "    </tr>\n",
              "    <tr>\n",
              "      <th>ven</th>\n",
              "      <td>1.000000</td>\n",
              "      <td>1.000000</td>\n",
              "      <td>1.000000</td>\n",
              "      <td>261.000000</td>\n",
              "    </tr>\n",
              "    <tr>\n",
              "      <th>xho</th>\n",
              "      <td>0.996255</td>\n",
              "      <td>1.000000</td>\n",
              "      <td>0.998124</td>\n",
              "      <td>266.000000</td>\n",
              "    </tr>\n",
              "    <tr>\n",
              "      <th>zul</th>\n",
              "      <td>0.989761</td>\n",
              "      <td>0.993151</td>\n",
              "      <td>0.991453</td>\n",
              "      <td>292.000000</td>\n",
              "    </tr>\n",
              "    <tr>\n",
              "      <th>accuracy</th>\n",
              "      <td>0.998331</td>\n",
              "      <td>0.998331</td>\n",
              "      <td>0.998331</td>\n",
              "      <td>0.998331</td>\n",
              "    </tr>\n",
              "    <tr>\n",
              "      <th>macro avg</th>\n",
              "      <td>0.998427</td>\n",
              "      <td>0.998244</td>\n",
              "      <td>0.998333</td>\n",
              "      <td>2995.000000</td>\n",
              "    </tr>\n",
              "    <tr>\n",
              "      <th>weighted avg</th>\n",
              "      <td>0.998336</td>\n",
              "      <td>0.998331</td>\n",
              "      <td>0.998331</td>\n",
              "      <td>2995.000000</td>\n",
              "    </tr>\n",
              "  </tbody>\n",
              "</table>\n",
              "</div>"
            ],
            "text/plain": [
              "              precision    recall  f1-score      support\n",
              "afr            1.000000  1.000000  1.000000   264.000000\n",
              "eng            0.996678  1.000000  0.998336   300.000000\n",
              "nbl            1.000000  0.995763  0.997877   236.000000\n",
              "nso            1.000000  1.000000  1.000000   287.000000\n",
              "sot            1.000000  1.000000  1.000000   283.000000\n",
              "ssw            1.000000  0.991770  0.995868   243.000000\n",
              "tsn            1.000000  1.000000  1.000000   287.000000\n",
              "tso            1.000000  1.000000  1.000000   276.000000\n",
              "ven            1.000000  1.000000  1.000000   261.000000\n",
              "xho            0.996255  1.000000  0.998124   266.000000\n",
              "zul            0.989761  0.993151  0.991453   292.000000\n",
              "accuracy       0.998331  0.998331  0.998331     0.998331\n",
              "macro avg      0.998427  0.998244  0.998333  2995.000000\n",
              "weighted avg   0.998336  0.998331  0.998331  2995.000000"
            ]
          },
          "metadata": {
            "tags": []
          },
          "execution_count": 63
        }
      ]
    },
    {
      "cell_type": "markdown",
      "metadata": {
        "id": "EQx1f5g5QA4m"
      },
      "source": [
        "Random Forest"
      ]
    },
    {
      "cell_type": "code",
      "metadata": {
        "colab": {
          "base_uri": "https://localhost:8080/",
          "height": 513
        },
        "id": "vLIDGJluP_Vx",
        "outputId": "4eb6c78a-ddca-46a7-a573-7419ce7fdb9b"
      },
      "source": [
        "rf_f1 = round(f1_score(y_test, y_pred_rf, average='weighted'),2)\n",
        "print('Accuracy %s' % accuracy_score(y_pred_rf, y_test))\n",
        "print(\"Model Runtime: %0.2f seconds\"%((time.time() - start)))\n",
        "report = classification_report(y_test, y_pred_rf, output_dict=True)\n",
        "pd.DataFrame(report).transpose()"
      ],
      "execution_count": 64,
      "outputs": [
        {
          "output_type": "stream",
          "text": [
            "Accuracy 0.9823038397328882\n",
            "Model Runtime: 0.30 seconds\n"
          ],
          "name": "stdout"
        },
        {
          "output_type": "execute_result",
          "data": {
            "text/html": [
              "<div>\n",
              "<style scoped>\n",
              "    .dataframe tbody tr th:only-of-type {\n",
              "        vertical-align: middle;\n",
              "    }\n",
              "\n",
              "    .dataframe tbody tr th {\n",
              "        vertical-align: top;\n",
              "    }\n",
              "\n",
              "    .dataframe thead th {\n",
              "        text-align: right;\n",
              "    }\n",
              "</style>\n",
              "<table border=\"1\" class=\"dataframe\">\n",
              "  <thead>\n",
              "    <tr style=\"text-align: right;\">\n",
              "      <th></th>\n",
              "      <th>precision</th>\n",
              "      <th>recall</th>\n",
              "      <th>f1-score</th>\n",
              "      <th>support</th>\n",
              "    </tr>\n",
              "  </thead>\n",
              "  <tbody>\n",
              "    <tr>\n",
              "      <th>afr</th>\n",
              "      <td>0.996226</td>\n",
              "      <td>1.000000</td>\n",
              "      <td>0.998110</td>\n",
              "      <td>264.000000</td>\n",
              "    </tr>\n",
              "    <tr>\n",
              "      <th>eng</th>\n",
              "      <td>0.990099</td>\n",
              "      <td>1.000000</td>\n",
              "      <td>0.995025</td>\n",
              "      <td>300.000000</td>\n",
              "    </tr>\n",
              "    <tr>\n",
              "      <th>nbl</th>\n",
              "      <td>0.986486</td>\n",
              "      <td>0.927966</td>\n",
              "      <td>0.956332</td>\n",
              "      <td>236.000000</td>\n",
              "    </tr>\n",
              "    <tr>\n",
              "      <th>nso</th>\n",
              "      <td>1.000000</td>\n",
              "      <td>1.000000</td>\n",
              "      <td>1.000000</td>\n",
              "      <td>287.000000</td>\n",
              "    </tr>\n",
              "    <tr>\n",
              "      <th>sot</th>\n",
              "      <td>1.000000</td>\n",
              "      <td>1.000000</td>\n",
              "      <td>1.000000</td>\n",
              "      <td>283.000000</td>\n",
              "    </tr>\n",
              "    <tr>\n",
              "      <th>ssw</th>\n",
              "      <td>0.995575</td>\n",
              "      <td>0.925926</td>\n",
              "      <td>0.959488</td>\n",
              "      <td>243.000000</td>\n",
              "    </tr>\n",
              "    <tr>\n",
              "      <th>tsn</th>\n",
              "      <td>1.000000</td>\n",
              "      <td>1.000000</td>\n",
              "      <td>1.000000</td>\n",
              "      <td>287.000000</td>\n",
              "    </tr>\n",
              "    <tr>\n",
              "      <th>tso</th>\n",
              "      <td>1.000000</td>\n",
              "      <td>1.000000</td>\n",
              "      <td>1.000000</td>\n",
              "      <td>276.000000</td>\n",
              "    </tr>\n",
              "    <tr>\n",
              "      <th>ven</th>\n",
              "      <td>1.000000</td>\n",
              "      <td>1.000000</td>\n",
              "      <td>1.000000</td>\n",
              "      <td>261.000000</td>\n",
              "    </tr>\n",
              "    <tr>\n",
              "      <th>xho</th>\n",
              "      <td>0.977186</td>\n",
              "      <td>0.966165</td>\n",
              "      <td>0.971645</td>\n",
              "      <td>266.000000</td>\n",
              "    </tr>\n",
              "    <tr>\n",
              "      <th>zul</th>\n",
              "      <td>0.878882</td>\n",
              "      <td>0.969178</td>\n",
              "      <td>0.921824</td>\n",
              "      <td>292.000000</td>\n",
              "    </tr>\n",
              "    <tr>\n",
              "      <th>accuracy</th>\n",
              "      <td>0.982304</td>\n",
              "      <td>0.982304</td>\n",
              "      <td>0.982304</td>\n",
              "      <td>0.982304</td>\n",
              "    </tr>\n",
              "    <tr>\n",
              "      <th>macro avg</th>\n",
              "      <td>0.984041</td>\n",
              "      <td>0.980840</td>\n",
              "      <td>0.982038</td>\n",
              "      <td>2995.000000</td>\n",
              "    </tr>\n",
              "    <tr>\n",
              "      <th>weighted avg</th>\n",
              "      <td>0.983417</td>\n",
              "      <td>0.982304</td>\n",
              "      <td>0.982467</td>\n",
              "      <td>2995.000000</td>\n",
              "    </tr>\n",
              "  </tbody>\n",
              "</table>\n",
              "</div>"
            ],
            "text/plain": [
              "              precision    recall  f1-score      support\n",
              "afr            0.996226  1.000000  0.998110   264.000000\n",
              "eng            0.990099  1.000000  0.995025   300.000000\n",
              "nbl            0.986486  0.927966  0.956332   236.000000\n",
              "nso            1.000000  1.000000  1.000000   287.000000\n",
              "sot            1.000000  1.000000  1.000000   283.000000\n",
              "ssw            0.995575  0.925926  0.959488   243.000000\n",
              "tsn            1.000000  1.000000  1.000000   287.000000\n",
              "tso            1.000000  1.000000  1.000000   276.000000\n",
              "ven            1.000000  1.000000  1.000000   261.000000\n",
              "xho            0.977186  0.966165  0.971645   266.000000\n",
              "zul            0.878882  0.969178  0.921824   292.000000\n",
              "accuracy       0.982304  0.982304  0.982304     0.982304\n",
              "macro avg      0.984041  0.980840  0.982038  2995.000000\n",
              "weighted avg   0.983417  0.982304  0.982467  2995.000000"
            ]
          },
          "metadata": {
            "tags": []
          },
          "execution_count": 64
        }
      ]
    },
    {
      "cell_type": "markdown",
      "metadata": {
        "id": "8FZmY6-wf1zR"
      },
      "source": [
        "## Hyperparameter Tuning"
      ]
    },
    {
      "cell_type": "markdown",
      "metadata": {
        "id": "tATHdp_JQO1g"
      },
      "source": [
        "Multinomial Naive Bayes"
      ]
    },
    {
      "cell_type": "code",
      "metadata": {
        "colab": {
          "base_uri": "https://localhost:8080/"
        },
        "id": "ugXStHHQBLlq",
        "outputId": "b4e98ac6-f3c1-4ba7-fa0d-d98d6aecc8ef"
      },
      "source": [
        "#Multinomial Naive Bayes\n",
        "param_grid={'alpha':[1,0.1,0.01,0.001,0.0001,0.00001]}\n",
        "multi = Pipeline([('tfidf', TfidfVectorizer(ngram_range=(1,3),min_df=2, stop_words='english')),\n",
        "                  ('clf', GridSearchCV(MultinomialNB(),\n",
        "                                       param_grid=param_grid,\n",
        "                                       cv =5,\n",
        "                                       n_jobs=-1) )])\n",
        "\n",
        "multi.fit(X_train, y_train)\n",
        "y_pred_multi=multi.predict(X_test)\n",
        "\n",
        "print(classification_report(y_test, y_pred_multi))\n",
        "multin=classification_report(y_test, y_pred_multi, output_dict=True)\n"
      ],
      "execution_count": 65,
      "outputs": [
        {
          "output_type": "stream",
          "text": [
            "              precision    recall  f1-score   support\n",
            "\n",
            "         afr       1.00      1.00      1.00       264\n",
            "         eng       1.00      1.00      1.00       300\n",
            "         nbl       1.00      1.00      1.00       236\n",
            "         nso       1.00      1.00      1.00       287\n",
            "         sot       1.00      1.00      1.00       283\n",
            "         ssw       1.00      1.00      1.00       243\n",
            "         tsn       1.00      1.00      1.00       287\n",
            "         tso       1.00      1.00      1.00       276\n",
            "         ven       1.00      1.00      1.00       261\n",
            "         xho       1.00      1.00      1.00       266\n",
            "         zul       1.00      1.00      1.00       292\n",
            "\n",
            "    accuracy                           1.00      2995\n",
            "   macro avg       1.00      1.00      1.00      2995\n",
            "weighted avg       1.00      1.00      1.00      2995\n",
            "\n"
          ],
          "name": "stdout"
        }
      ]
    },
    {
      "cell_type": "markdown",
      "metadata": {
        "id": "4HkPprohJxIN"
      },
      "source": [
        "## 5 Submission"
      ]
    },
    {
      "cell_type": "code",
      "metadata": {
        "colab": {
          "base_uri": "https://localhost:8080/",
          "height": 415
        },
        "id": "1FoJuhPMJ0e0",
        "outputId": "87f419c8-1fcf-4be0-ba23-6500098a1fef"
      },
      "source": [
        "df1 = test.copy()\n",
        "df1"
      ],
      "execution_count": 66,
      "outputs": [
        {
          "output_type": "execute_result",
          "data": {
            "text/html": [
              "<div>\n",
              "<style scoped>\n",
              "    .dataframe tbody tr th:only-of-type {\n",
              "        vertical-align: middle;\n",
              "    }\n",
              "\n",
              "    .dataframe tbody tr th {\n",
              "        vertical-align: top;\n",
              "    }\n",
              "\n",
              "    .dataframe thead th {\n",
              "        text-align: right;\n",
              "    }\n",
              "</style>\n",
              "<table border=\"1\" class=\"dataframe\">\n",
              "  <thead>\n",
              "    <tr style=\"text-align: right;\">\n",
              "      <th></th>\n",
              "      <th>index</th>\n",
              "      <th>text</th>\n",
              "    </tr>\n",
              "  </thead>\n",
              "  <tbody>\n",
              "    <tr>\n",
              "      <th>0</th>\n",
              "      <td>1</td>\n",
              "      <td>Mmasepala, fa maemo a a kgethegileng a letlele...</td>\n",
              "    </tr>\n",
              "    <tr>\n",
              "      <th>1</th>\n",
              "      <td>2</td>\n",
              "      <td>Uzakwaziswa ngokufaneleko nakungafuneka eminye...</td>\n",
              "    </tr>\n",
              "    <tr>\n",
              "      <th>2</th>\n",
              "      <td>3</td>\n",
              "      <td>Tshivhumbeo tshi fana na ngano dza vhathu.</td>\n",
              "    </tr>\n",
              "    <tr>\n",
              "      <th>3</th>\n",
              "      <td>4</td>\n",
              "      <td>Kube inja nelikati betingevakala kutsi titsini...</td>\n",
              "    </tr>\n",
              "    <tr>\n",
              "      <th>4</th>\n",
              "      <td>5</td>\n",
              "      <td>Winste op buitelandse valuta.</td>\n",
              "    </tr>\n",
              "    <tr>\n",
              "      <th>...</th>\n",
              "      <td>...</td>\n",
              "      <td>...</td>\n",
              "    </tr>\n",
              "    <tr>\n",
              "      <th>5677</th>\n",
              "      <td>5678</td>\n",
              "      <td>You mark your ballot in private.</td>\n",
              "    </tr>\n",
              "    <tr>\n",
              "      <th>5678</th>\n",
              "      <td>5679</td>\n",
              "      <td>Ge o ka kgetha ka bowena go se šomiše Mofani k...</td>\n",
              "    </tr>\n",
              "    <tr>\n",
              "      <th>5679</th>\n",
              "      <td>5680</td>\n",
              "      <td>E Ka kopo etsa kgetho ya hao ka hloko, hobane ...</td>\n",
              "    </tr>\n",
              "    <tr>\n",
              "      <th>5680</th>\n",
              "      <td>5681</td>\n",
              "      <td>TB ke bokudi ba PMB, mme Morero o tla lefella ...</td>\n",
              "    </tr>\n",
              "    <tr>\n",
              "      <th>5681</th>\n",
              "      <td>5682</td>\n",
              "      <td>Vakatjhela iwebhusayidi yethu ku-www.</td>\n",
              "    </tr>\n",
              "  </tbody>\n",
              "</table>\n",
              "<p>5682 rows × 2 columns</p>\n",
              "</div>"
            ],
            "text/plain": [
              "      index                                               text\n",
              "0         1  Mmasepala, fa maemo a a kgethegileng a letlele...\n",
              "1         2  Uzakwaziswa ngokufaneleko nakungafuneka eminye...\n",
              "2         3         Tshivhumbeo tshi fana na ngano dza vhathu.\n",
              "3         4  Kube inja nelikati betingevakala kutsi titsini...\n",
              "4         5                      Winste op buitelandse valuta.\n",
              "...     ...                                                ...\n",
              "5677   5678                   You mark your ballot in private.\n",
              "5678   5679  Ge o ka kgetha ka bowena go se šomiše Mofani k...\n",
              "5679   5680  E Ka kopo etsa kgetho ya hao ka hloko, hobane ...\n",
              "5680   5681  TB ke bokudi ba PMB, mme Morero o tla lefella ...\n",
              "5681   5682              Vakatjhela iwebhusayidi yethu ku-www.\n",
              "\n",
              "[5682 rows x 2 columns]"
            ]
          },
          "metadata": {
            "tags": []
          },
          "execution_count": 66
        }
      ]
    },
    {
      "cell_type": "code",
      "metadata": {
        "id": "9ylAa-TpQess"
      },
      "source": [
        "test_X = df1.text"
      ],
      "execution_count": 67,
      "outputs": []
    },
    {
      "cell_type": "code",
      "metadata": {
        "id": "wOJSYyhJQijQ"
      },
      "source": [
        "y_pred =multi.predict(test_X)"
      ],
      "execution_count": 68,
      "outputs": []
    },
    {
      "cell_type": "code",
      "metadata": {
        "id": "T8fo7W1uQmNa"
      },
      "source": [
        "df1['lang_id'] = y_pred"
      ],
      "execution_count": 69,
      "outputs": []
    },
    {
      "cell_type": "code",
      "metadata": {
        "colab": {
          "base_uri": "https://localhost:8080/",
          "height": 202
        },
        "id": "3zrFNVUCQpSV",
        "outputId": "83a2fa2c-29e3-4e02-b902-cc38c7a05c83"
      },
      "source": [
        "df1.head()"
      ],
      "execution_count": 70,
      "outputs": [
        {
          "output_type": "execute_result",
          "data": {
            "text/html": [
              "<div>\n",
              "<style scoped>\n",
              "    .dataframe tbody tr th:only-of-type {\n",
              "        vertical-align: middle;\n",
              "    }\n",
              "\n",
              "    .dataframe tbody tr th {\n",
              "        vertical-align: top;\n",
              "    }\n",
              "\n",
              "    .dataframe thead th {\n",
              "        text-align: right;\n",
              "    }\n",
              "</style>\n",
              "<table border=\"1\" class=\"dataframe\">\n",
              "  <thead>\n",
              "    <tr style=\"text-align: right;\">\n",
              "      <th></th>\n",
              "      <th>index</th>\n",
              "      <th>text</th>\n",
              "      <th>lang_id</th>\n",
              "    </tr>\n",
              "  </thead>\n",
              "  <tbody>\n",
              "    <tr>\n",
              "      <th>0</th>\n",
              "      <td>1</td>\n",
              "      <td>Mmasepala, fa maemo a a kgethegileng a letlele...</td>\n",
              "      <td>tsn</td>\n",
              "    </tr>\n",
              "    <tr>\n",
              "      <th>1</th>\n",
              "      <td>2</td>\n",
              "      <td>Uzakwaziswa ngokufaneleko nakungafuneka eminye...</td>\n",
              "      <td>nbl</td>\n",
              "    </tr>\n",
              "    <tr>\n",
              "      <th>2</th>\n",
              "      <td>3</td>\n",
              "      <td>Tshivhumbeo tshi fana na ngano dza vhathu.</td>\n",
              "      <td>ven</td>\n",
              "    </tr>\n",
              "    <tr>\n",
              "      <th>3</th>\n",
              "      <td>4</td>\n",
              "      <td>Kube inja nelikati betingevakala kutsi titsini...</td>\n",
              "      <td>ssw</td>\n",
              "    </tr>\n",
              "    <tr>\n",
              "      <th>4</th>\n",
              "      <td>5</td>\n",
              "      <td>Winste op buitelandse valuta.</td>\n",
              "      <td>afr</td>\n",
              "    </tr>\n",
              "  </tbody>\n",
              "</table>\n",
              "</div>"
            ],
            "text/plain": [
              "   index                                               text lang_id\n",
              "0      1  Mmasepala, fa maemo a a kgethegileng a letlele...     tsn\n",
              "1      2  Uzakwaziswa ngokufaneleko nakungafuneka eminye...     nbl\n",
              "2      3         Tshivhumbeo tshi fana na ngano dza vhathu.     ven\n",
              "3      4  Kube inja nelikati betingevakala kutsi titsini...     ssw\n",
              "4      5                      Winste op buitelandse valuta.     afr"
            ]
          },
          "metadata": {
            "tags": []
          },
          "execution_count": 70
        }
      ]
    },
    {
      "cell_type": "code",
      "metadata": {
        "id": "zNsBFSPkQsXy"
      },
      "source": [
        "df1[['index','lang_id']].to_csv('submissionf5.csv', index=False)"
      ],
      "execution_count": 72,
      "outputs": []
    }
  ]
}